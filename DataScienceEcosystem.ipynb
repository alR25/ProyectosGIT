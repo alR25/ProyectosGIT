{
 "cells": [
  {
   "cell_type": "markdown",
   "id": "c22f6753-8586-405d-9156-27dcdb0e5eb3",
   "metadata": {},
   "source": [
    "# Data Science Tools and Ecosystem"
   ]
  },
  {
   "cell_type": "markdown",
   "id": "cd3c8a1b-cab6-4543-a5f0-4c40f7827699",
   "metadata": {},
   "source": [
    "In this notebook, Data Science Tools and Ecosystem are summarized."
   ]
  },
  {
   "cell_type": "markdown",
   "id": "b49bd4fc-d1f2-48f6-b6d1-afcd95ca65e9",
   "metadata": {},
   "source": [
    "**Objectives:**"
   ]
  },
  {
   "cell_type": "markdown",
   "id": "b65bf2fa-6622-485d-a395-ec418f40bdd9",
   "metadata": {},
   "source": [
    "+ List popular languages for Data Science\n",
    "+ Commonly used libraries used by Data Scientists\n",
    "+ Data Science Tools\n",
    "+ Examples of arithmetic expressions in Python\n"
   ]
  },
  {
   "cell_type": "markdown",
   "id": "dea64fe9-14d7-4160-9838-36dcb9f14eae",
   "metadata": {},
   "source": [
    "Some of the popular languages that Data Scientists use are:"
   ]
  },
  {
   "cell_type": "markdown",
   "id": "1c34e6cb-d414-4721-8208-688a56b0e3d1",
   "metadata": {},
   "source": [
    "1. Python\n",
    "2. R\n",
    "3. SQL"
   ]
  },
  {
   "cell_type": "markdown",
   "id": "cc495f35-9a70-4365-bda9-7f3c7377b562",
   "metadata": {},
   "source": [
    "Some of the commonly used libraries used by Data Scientists include:"
   ]
  },
  {
   "cell_type": "markdown",
   "id": "0a8fe4aa-7686-4d8c-b9e3-81fbf6a6c626",
   "metadata": {},
   "source": [
    "1. NumPy\n",
    "2. Pandas\n",
    "3. MatplotLib"
   ]
  },
  {
   "cell_type": "markdown",
   "id": "c522dd24-f929-4f71-afa6-7ba5144e1659",
   "metadata": {},
   "source": [
    "| Data Science Tools |\n",
    "| ------------------ |\n",
    "| Jupyter Notebook |\n",
    "| RStudio |\n",
    "| VS Code |"
   ]
  },
  {
   "cell_type": "markdown",
   "id": "27929dbd-9469-4d64-bbef-3f91312e6dcf",
   "metadata": {},
   "source": [
    "### Below are a few examples of evaluating arithmetic expressions in Python"
   ]
  },
  {
   "cell_type": "markdown",
   "id": "313c9600-e872-48c0-9239-3bd859ac399e",
   "metadata": {},
   "source": [
    "This a simple arithmetic expression to mutiply then add integers"
   ]
  },
  {
   "cell_type": "code",
   "execution_count": 15,
   "id": "63b7b273-be0f-4222-b5cd-35b3c2304c54",
   "metadata": {},
   "outputs": [
    {
     "data": {
      "text/plain": [
       "17"
      ]
     },
     "execution_count": 15,
     "metadata": {},
     "output_type": "execute_result"
    }
   ],
   "source": [
    "(3*4)+5"
   ]
  },
  {
   "cell_type": "markdown",
   "id": "e2f91c5e-2290-48c2-b534-187077ecba65",
   "metadata": {},
   "source": [
    "This will convert 200 minutes to hours by diving by 60."
   ]
  },
  {
   "cell_type": "code",
   "execution_count": 42,
   "id": "95cbec1c-9223-4009-8a20-2541c7c00c57",
   "metadata": {},
   "outputs": [
    {
     "name": "stdout",
     "output_type": "stream",
     "text": [
      "3.3333333333333335 hours\n"
     ]
    }
   ],
   "source": [
    "minutes = 200\n",
    "hours = minutes/60\n",
    "print(hours, \"hours\")"
   ]
  },
  {
   "cell_type": "markdown",
   "id": "e7210f72-3f06-4b0d-b9f3-c3643cf4fd8e",
   "metadata": {},
   "source": [
    "## Author\n",
    "Alejandro Renau Rubio"
   ]
  },
  {
   "cell_type": "code",
   "execution_count": null,
   "id": "6dd9a2f4-8e50-4f14-a131-d30a1664e7fc",
   "metadata": {},
   "outputs": [],
   "source": []
  }
 ],
 "metadata": {
  "kernelspec": {
   "display_name": "Python 3 (ipykernel)",
   "language": "python",
   "name": "python3"
  },
  "language_info": {
   "codemirror_mode": {
    "name": "ipython",
    "version": 3
   },
   "file_extension": ".py",
   "mimetype": "text/x-python",
   "name": "python",
   "nbconvert_exporter": "python",
   "pygments_lexer": "ipython3",
   "version": "3.11.7"
  }
 },
 "nbformat": 4,
 "nbformat_minor": 5
}
